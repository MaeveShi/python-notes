{
 "cells": [
  {
   "cell_type": "markdown",
   "id": "05679002-bc5b-49b0-a55e-5def3aeb1829",
   "metadata": {},
   "source": [
    "# Python Summary"
   ]
  },
  {
   "cell_type": "code",
   "execution_count": 1,
   "id": "0fe81079-088b-46e5-b272-851bc1e33c39",
   "metadata": {},
   "outputs": [],
   "source": [
    "import pandas as pd\n",
    "import numpy as np\n",
    "import string\n",
    "import numpy as np\n",
    "from random import random"
   ]
  },
  {
   "cell_type": "markdown",
   "id": "e820f5bd-a298-47f3-9280-c03fcd6b15f8",
   "metadata": {},
   "source": [
    "## Basics, loops, functions"
   ]
  },
  {
   "cell_type": "markdown",
   "id": "d1d80793-28e8-4f23-8685-a2242dec1b5a",
   "metadata": {},
   "source": [
    "### lower() and replace()"
   ]
  },
  {
   "cell_type": "code",
   "execution_count": 2,
   "id": "3622ece4-fcc3-4145-a804-386bd58e9d83",
   "metadata": {},
   "outputs": [
    {
     "data": {
      "text/plain": [
       "'python_manipulation_review_'"
      ]
     },
     "execution_count": 2,
     "metadata": {},
     "output_type": "execute_result"
    }
   ],
   "source": [
    "#string\n",
    "sentence = \"Python manipulation review!\"\n",
    "\n",
    "def fun_str(sentence):\n",
    "    output = (sentence.\n",
    "             lower().\n",
    "             replace(\"!\", \" \").\n",
    "             replace(\" \", \"_\"))\n",
    "    return output\n",
    "\n",
    "fun_str(sentence)"
   ]
  },
  {
   "cell_type": "markdown",
   "id": "b29c0e72-3ccc-435b-bc6b-e7990a2c39da",
   "metadata": {},
   "source": [
    "### convert from dict to list"
   ]
  },
  {
   "cell_type": "code",
   "execution_count": 3,
   "id": "0530c44a-f9af-45f4-8686-5546ca061c0d",
   "metadata": {},
   "outputs": [
    {
     "data": {
      "text/plain": [
       "['string', [4, 2, 1], 3.141]"
      ]
     },
     "execution_count": 3,
     "metadata": {},
     "output_type": "execute_result"
    }
   ],
   "source": [
    "d = {\"a\": \"string\",\n",
    "     \"b\": [4, 2, 1],\n",
    "     \"c\": 3.141}\n",
    "\n",
    "def dict_to_list(dic):\n",
    "    output = list(dic.values())\n",
    "    return output\n",
    "\n",
    "dict_to_list(d)"
   ]
  },
  {
   "cell_type": "markdown",
   "id": "2c05b0dc-af30-48d2-b7df-63da8d4cbdd3",
   "metadata": {},
   "source": [
    "### unpack list"
   ]
  },
  {
   "cell_type": "code",
   "execution_count": 4,
   "id": "a99c8304-e7e1-49e7-8162-e94930fe1b57",
   "metadata": {},
   "outputs": [
    {
     "name": "stderr",
     "output_type": "stream",
     "text": [
      "/var/folders/4f/2z9n5fz56c3fzm0mj9kv4lyr0000gn/T/ipykernel_4688/2187546384.py:1: DeprecationWarning: Using or importing the ABCs from 'collections' instead of from 'collections.abc' is deprecated since Python 3.3, and in 3.10 it will stop working\n",
      "  from collections import Iterable\n"
     ]
    },
    {
     "data": {
      "text/plain": [
       "['string', 4, 2, 1, 3.141]"
      ]
     },
     "execution_count": 4,
     "metadata": {},
     "output_type": "execute_result"
    }
   ],
   "source": [
    "from collections import Iterable\n",
    "\n",
    "#recursively loop over the list and check if an item is iterable(exclude string condition)\n",
    "#note we cannot use itertools.chain here because it requires all of list's item to be iterable\n",
    "#it will not work for [1,[2,2,2],4]\n",
    "\n",
    "def flatten(lis):\n",
    "    for item in lis:\n",
    "        if isinstance(item, Iterable) and not isinstance(item, str):\n",
    "            for x in flatten(item):\n",
    "                yield x\n",
    "        else:\n",
    "            yield item\n",
    "\n",
    "list(flatten(dict_to_list(d)))"
   ]
  },
  {
   "cell_type": "code",
   "execution_count": null,
   "id": "42612262-ebde-4e25-b180-c8b44a54d47d",
   "metadata": {},
   "outputs": [],
   "source": []
  }
 ],
 "metadata": {
  "kernelspec": {
   "display_name": "Python 3 (ipykernel)",
   "language": "python",
   "name": "python3"
  },
  "language_info": {
   "codemirror_mode": {
    "name": "ipython",
    "version": 3
   },
   "file_extension": ".py",
   "mimetype": "text/x-python",
   "name": "python",
   "nbconvert_exporter": "python",
   "pygments_lexer": "ipython3",
   "version": "3.9.7"
  }
 },
 "nbformat": 4,
 "nbformat_minor": 5
}
